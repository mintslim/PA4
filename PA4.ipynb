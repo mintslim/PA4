{
 "cells": [
  {
   "cell_type": "code",
   "execution_count": 6,
   "id": "79d7955c",
   "metadata": {},
   "outputs": [
    {
     "name": "stdout",
     "output_type": "stream",
     "text": [
      "0\n",
      "1\n",
      "2\n",
      "3\n",
      "4\n",
      "5\n",
      "6 *\n",
      "7\n",
      "8\n",
      "9 *\n",
      "10\n",
      "11\n",
      "12 *\n",
      "13\n",
      "14\n",
      "15 *\n",
      "16\n",
      "17\n",
      "18 *\n",
      "19\n",
      "20\n",
      "21 *\n",
      "22\n",
      "23\n",
      "24 *\n",
      "25\n",
      "26\n",
      "27 *\n",
      "28\n",
      "29\n",
      "30 *\n",
      "31\n",
      "32\n",
      "33 *\n",
      "34\n",
      "35\n",
      "36 *\n",
      "37\n",
      "38\n",
      "39 *\n",
      "40\n",
      "41\n",
      "42 *\n",
      "43\n",
      "44\n",
      "45 *\n",
      "46\n",
      "47\n",
      "48 *\n",
      "49\n",
      "50\n",
      "51 *\n",
      "52\n",
      "53\n",
      "54 *\n",
      "55\n",
      "56\n",
      "57 *\n",
      "58\n",
      "59\n",
      "60 *\n",
      "61\n",
      "62\n",
      "63 *\n",
      "64\n",
      "65\n",
      "66 *\n",
      "67\n",
      "68\n",
      "69 *\n",
      "70\n",
      "71\n",
      "72 *\n",
      "73\n",
      "74\n",
      "75 *\n",
      "76\n",
      "77\n",
      "78 *\n",
      "79\n",
      "80\n",
      "81 *\n",
      "82\n",
      "83\n",
      "84 *\n",
      "85\n",
      "86\n",
      "87 *\n",
      "88\n",
      "89\n",
      "90 *\n",
      "91\n",
      "92\n",
      "93 *\n",
      "94\n",
      "95\n",
      "96 *\n",
      "97\n",
      "98\n",
      "99 *\n",
      "100\n"
     ]
    }
   ],
   "source": [
    "for i in range(101):\n",
    "    if i == 0 or i == 3:\n",
    "        print(i)\n",
    "    elif i % 3 == 0:\n",
    "        print(f\"{i} *\")\n",
    "    else:\n",
    "        print(i)"
   ]
  },
  {
   "cell_type": "code",
   "execution_count": 2,
   "id": "b59898cb",
   "metadata": {},
   "outputs": [
    {
     "name": "stdout",
     "output_type": "stream",
     "text": [
      "Enter a number between 1 and 12: 6\n",
      "June has 30 days.\n",
      "None\n"
     ]
    }
   ],
   "source": [
    "def month_days(month_number):\n",
    "    if month_number == 1:\n",
    "        print(\"January has 31 days.\")\n",
    "    elif month_number == 2:\n",
    "        print(\"February has 28 days (29 in a leap year).\") \n",
    "    elif month_number == 3:\n",
    "        print(\"March has 31 days.\") \n",
    "    elif month_number == 4:\n",
    "        print(\"April has 30 days.\")\n",
    "    elif month_number == 5:\n",
    "        print(\"May has 31 days.\") \n",
    "    elif month_number == 6:\n",
    "        print(\"June has 30 days.\") \n",
    "    elif month_number == 7:\n",
    "        print(\"July has 31 days.\")\n",
    "    elif month_number == 8:\n",
    "        print(\"August has 31 days.\") \n",
    "    elif month_number == 9:\n",
    "        print(\"September has 30 days.\")\n",
    "    elif month_number == 10:\n",
    "        print(\"October has 31 days.\")\n",
    "    elif month_number == 11:\n",
    "        print(\"November has 30 days.\")\n",
    "    elif month_number == 12:\n",
    "        print(\"December has 31 days.\")\n",
    "    else:\n",
    "        print(\"Invalid month number. Please enter a number between 1 and 12.\")\n",
    "\n",
    "month = int(input(\"Enter a number between 1 and 12: \"))\n",
    "print(month_days(month))"
   ]
  },
  {
   "cell_type": "code",
   "execution_count": 4,
   "id": "cd81a07b",
   "metadata": {},
   "outputs": [
    {
     "name": "stdout",
     "output_type": "stream",
     "text": [
      "Enter a number: 3\n",
      "3 is a prime number\n"
     ]
    }
   ],
   "source": [
    "def is_prime(num):\n",
    "    if num < 2:\n",
    "        return False\n",
    "    for i in range(2, num):\n",
    "        if num % i == 0:\n",
    "            return False\n",
    "    return True\n",
    "\n",
    "number = int(input(\"Enter a number: \"))\n",
    "if is_prime(number):\n",
    "    print(f\"{number} is a prime number\")\n",
    "else:\n",
    "    print(f\"{number} is not a prime number\")"
   ]
  },
  {
   "cell_type": "code",
   "execution_count": 5,
   "id": "7f02e251",
   "metadata": {},
   "outputs": [
    {
     "name": "stdout",
     "output_type": "stream",
     "text": [
      "Enter side 1: 3\n",
      "Enter side 2: 3\n",
      "Enter side 3: 3\n",
      "Triangle Type: Equilateral Triangle\n"
     ]
    }
   ],
   "source": [
    "def triangle_type(side1, side2, side3):\n",
    "    if side1 == side2 and side2 == side3:\n",
    "        return \"Equilateral Triangle\"\n",
    "    elif side1 == side2 or side1 == side3 or side2 == side3:\n",
    "        return \"Isosceles Triangle\"\n",
    "    else:\n",
    "        return \"Scalene Triangle\"\n",
    "\n",
    "side1 = int(input(\"Enter side 1: \"))\n",
    "side2 = int(input(\"Enter side 2: \"))\n",
    "side3 = int(input(\"Enter side 3: \"))\n",
    "print(\"Triangle Type:\", triangle_type(side1, side2, side3))"
   ]
  },
  {
   "cell_type": "code",
   "execution_count": null,
   "id": "63c1269e",
   "metadata": {},
   "outputs": [],
   "source": []
  },
  {
   "cell_type": "code",
   "execution_count": null,
   "id": "3df75ad8",
   "metadata": {},
   "outputs": [],
   "source": []
  },
  {
   "cell_type": "code",
   "execution_count": null,
   "id": "661fc073",
   "metadata": {},
   "outputs": [],
   "source": []
  }
 ],
 "metadata": {
  "kernelspec": {
   "display_name": "Python 3 (ipykernel)",
   "language": "python",
   "name": "python3"
  },
  "language_info": {
   "codemirror_mode": {
    "name": "ipython",
    "version": 3
   },
   "file_extension": ".py",
   "mimetype": "text/x-python",
   "name": "python",
   "nbconvert_exporter": "python",
   "pygments_lexer": "ipython3",
   "version": "3.9.13"
  }
 },
 "nbformat": 4,
 "nbformat_minor": 5
}
